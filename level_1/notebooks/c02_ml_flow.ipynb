{
 "cells": [
  {
   "cell_type": "markdown",
   "metadata": {},
   "source": [
    "# Settings"
   ]
  },
  {
   "cell_type": "markdown",
   "metadata": {},
   "source": [
    "## Imports"
   ]
  },
  {
   "cell_type": "code",
   "execution_count": 2,
   "metadata": {},
   "outputs": [],
   "source": [
    "import os, sys\n",
    "\n",
    "ROOT_DIR = os.path.abspath(os.path.join(os.path.dirname('__file__'), '..', '..'))\n",
    "if ROOT_DIR not in sys.path:\n",
    "    sys.path.append(ROOT_DIR)\n",
    "\n",
    "# Data Manipulation\n",
    "import pandas as pd\n",
    "import numpy as np\n",
    "\n",
    "import joblib\n",
    "\n",
    "# Data Testing\n",
    "import pandera\n",
    "from pandera import Check, Column, DataFrameSchema\n",
    "\n",
    "# Models\n",
    "from sklearn.linear_model import LogisticRegression\n",
    "\n",
    "# Preprocessing\n",
    "from sklearn.preprocessing import RobustScaler, StandardScaler\n",
    "from sklearn.model_selection import train_test_split\n",
    "from feature_engine.discretisation import EqualFrequencyDiscretiser, EqualWidthDiscretiser\n",
    "from feature_engine.imputation import MeanMedianImputer\n",
    "from feature_engine.wrappers import SklearnTransformerWrapper\n",
    "\n",
    "# Metrics\n",
    "from sklearn.metrics import roc_auc_score\n",
    "\n",
    "# Pipeline\n",
    "from sklearn.pipeline import Pipeline"
   ]
  },
  {
   "cell_type": "markdown",
   "metadata": {},
   "source": [
    "## Definitions"
   ]
  },
  {
   "cell_type": "code",
   "execution_count": 73,
   "metadata": {},
   "outputs": [],
   "source": [
    "STEP_PATH = os.path.join(ROOT_DIR, 'second_step')\n",
    "RAW_DATA_PATH = os.path.join(STEP_PATH, 'data', 'raw')\n",
    "PROCESSED_DATA_PATH = os.path.join(STEP_PATH, 'data', 'processed')\n",
    "NOTEBOOK_PATH = os.path.join(STEP_PATH, 'notebooks')\n",
    "PIPE_PATH = os.path.join(STEP_PATH, 'src', 'pipelines')\n",
    "MODEL_PATH = os.path.join(STEP_PATH, 'src', 'models')\n",
    "\n",
    "RAW_DATA_FILE = 'train.csv'\n",
    "RAW_DATA_FILE_PATH = os.path.join(RAW_DATA_PATH, RAW_DATA_FILE)\n",
    "\n",
    "np.random.seed(42)\n",
    "\n",
    "COLUMNS_TO_USE = [\n",
    "    'target',\n",
    "    'TaxaDeUtilizacaoDeLinhasNaoGarantidas',\n",
    "    'Idade',\n",
    "    'NumeroDeVezes30-59DiasAtrasoNaoPior',\n",
    "    'TaxaDeEndividamento',\n",
    "    'RendaMensal',\n",
    "    'NumeroDeLinhasDeCreditoEEmprestimosAbertos',\n",
    "    'NumeroDeVezes90DiasAtraso',\n",
    "    'NumeroDeEmprestimosOuLinhasImobiliarias',\n",
    "    'NumeroDeVezes60-89DiasAtrasoNaoPior',\n",
    "    'NumeroDeDependentes'\n",
    "]"
   ]
  },
  {
   "cell_type": "markdown",
   "metadata": {},
   "source": [
    "## Functions"
   ]
  },
  {
   "cell_type": "code",
   "execution_count": null,
   "metadata": {},
   "outputs": [],
   "source": []
  },
  {
   "cell_type": "markdown",
   "metadata": {},
   "source": [
    "# Data Load"
   ]
  },
  {
   "cell_type": "code",
   "execution_count": 26,
   "metadata": {},
   "outputs": [],
   "source": [
    "class DataLoad:\n",
    "    def __init__(self) -> None:\n",
    "        pass\n",
    "\n",
    "    def run(self, data_file: str, index_col: int = None) -> pd.DataFrame:\n",
    "        df = pd.read_csv(data_file, index_col=index_col)\n",
    "        return df"
   ]
  },
  {
   "cell_type": "code",
   "execution_count": 27,
   "metadata": {},
   "outputs": [
    {
     "data": {
      "text/html": [
       "<div>\n",
       "<style scoped>\n",
       "    .dataframe tbody tr th:only-of-type {\n",
       "        vertical-align: middle;\n",
       "    }\n",
       "\n",
       "    .dataframe tbody tr th {\n",
       "        vertical-align: top;\n",
       "    }\n",
       "\n",
       "    .dataframe thead th {\n",
       "        text-align: right;\n",
       "    }\n",
       "</style>\n",
       "<table border=\"1\" class=\"dataframe\">\n",
       "  <thead>\n",
       "    <tr style=\"text-align: right;\">\n",
       "      <th></th>\n",
       "      <th>target</th>\n",
       "      <th>TaxaDeUtilizacaoDeLinhasNaoGarantidas</th>\n",
       "      <th>Idade</th>\n",
       "      <th>NumeroDeVezes30-59DiasAtrasoNaoPior</th>\n",
       "      <th>TaxaDeEndividamento</th>\n",
       "      <th>RendaMensal</th>\n",
       "      <th>NumeroDeLinhasDeCreditoEEmprestimosAbertos</th>\n",
       "      <th>NumeroDeVezes90DiasAtraso</th>\n",
       "      <th>NumeroDeEmprestimosOuLinhasImobiliarias</th>\n",
       "      <th>NumeroDeVezes60-89DiasAtrasoNaoPior</th>\n",
       "      <th>NumeroDeDependentes</th>\n",
       "    </tr>\n",
       "  </thead>\n",
       "  <tbody>\n",
       "    <tr>\n",
       "      <th>0</th>\n",
       "      <td>1</td>\n",
       "      <td>0.766127</td>\n",
       "      <td>45</td>\n",
       "      <td>2</td>\n",
       "      <td>0.802982</td>\n",
       "      <td>9120.0</td>\n",
       "      <td>13</td>\n",
       "      <td>0</td>\n",
       "      <td>6</td>\n",
       "      <td>0</td>\n",
       "      <td>2.0</td>\n",
       "    </tr>\n",
       "    <tr>\n",
       "      <th>1</th>\n",
       "      <td>0</td>\n",
       "      <td>0.957151</td>\n",
       "      <td>40</td>\n",
       "      <td>0</td>\n",
       "      <td>0.121876</td>\n",
       "      <td>2600.0</td>\n",
       "      <td>4</td>\n",
       "      <td>0</td>\n",
       "      <td>0</td>\n",
       "      <td>0</td>\n",
       "      <td>1.0</td>\n",
       "    </tr>\n",
       "    <tr>\n",
       "      <th>2</th>\n",
       "      <td>0</td>\n",
       "      <td>0.658180</td>\n",
       "      <td>38</td>\n",
       "      <td>1</td>\n",
       "      <td>0.085113</td>\n",
       "      <td>3042.0</td>\n",
       "      <td>2</td>\n",
       "      <td>1</td>\n",
       "      <td>0</td>\n",
       "      <td>0</td>\n",
       "      <td>0.0</td>\n",
       "    </tr>\n",
       "    <tr>\n",
       "      <th>3</th>\n",
       "      <td>0</td>\n",
       "      <td>0.233810</td>\n",
       "      <td>30</td>\n",
       "      <td>0</td>\n",
       "      <td>0.036050</td>\n",
       "      <td>3300.0</td>\n",
       "      <td>5</td>\n",
       "      <td>0</td>\n",
       "      <td>0</td>\n",
       "      <td>0</td>\n",
       "      <td>0.0</td>\n",
       "    </tr>\n",
       "    <tr>\n",
       "      <th>4</th>\n",
       "      <td>0</td>\n",
       "      <td>0.907239</td>\n",
       "      <td>49</td>\n",
       "      <td>1</td>\n",
       "      <td>0.024926</td>\n",
       "      <td>63588.0</td>\n",
       "      <td>7</td>\n",
       "      <td>0</td>\n",
       "      <td>1</td>\n",
       "      <td>0</td>\n",
       "      <td>0.0</td>\n",
       "    </tr>\n",
       "  </tbody>\n",
       "</table>\n",
       "</div>"
      ],
      "text/plain": [
       "   target  ...  NumeroDeDependentes\n",
       "0       1  ...                  2.0\n",
       "1       0  ...                  1.0\n",
       "2       0  ...                  0.0\n",
       "3       0  ...                  0.0\n",
       "4       0  ...                  0.0\n",
       "\n",
       "[5 rows x 11 columns]"
      ]
     },
     "execution_count": 27,
     "metadata": {},
     "output_type": "execute_result"
    }
   ],
   "source": [
    "data_load = DataLoad()\n",
    "df = data_load.run(RAW_DATA_FILE_PATH, index_col=0)\n",
    "df.head()"
   ]
  },
  {
   "cell_type": "markdown",
   "metadata": {},
   "source": [
    "# Data Validation"
   ]
  },
  {
   "cell_type": "code",
   "execution_count": 41,
   "metadata": {},
   "outputs": [],
   "source": [
    "class DataValidation:\n",
    "    def __init__(self, columns_to_use: list) -> None:\n",
    "        self.columns_to_use = columns_to_use\n",
    "\n",
    "    def check_shape_data(self, df: pd.DataFrame) -> bool:\n",
    "        try:\n",
    "            print('Validation Started')\n",
    "            df.columns = self.columns_to_use\n",
    "            return True\n",
    "        except Exception as e:\n",
    "            print(f'Validation Failed: {e}')\n",
    "            return False\n",
    "        \n",
    "    def check_columns(self, df: pd.DataFrame) -> bool:\n",
    "        schema = DataFrameSchema(\n",
    "            {\n",
    "                'target': Column(int, Check.isin([0, 1]), Check(lambda x: x > 0), coerce=True),\n",
    "                'TaxaDeUtilizacaoDeLinhasNaoGarantidas': Column(float, nullable=True),\n",
    "                'Idade': Column(int, nullable=True),\n",
    "                'NumeroDeVezes30-59DiasAtrasoNaoPior': Column(int, nullable=True),\n",
    "                'TaxaDeEndividamento': Column(float, nullable=True),\n",
    "                'RendaMensal': Column(float, nullable=True),\n",
    "                'NumeroDeLinhasDeCreditoEEmprestimosAbertos': Column(int, nullable=True),\n",
    "                'NumeroDeVezes90DiasAtraso': Column(int, nullable=True),\n",
    "                'NumeroDeEmprestimosOuLinhasImobiliarias': Column(int, nullable=True),\n",
    "                'NumeroDeVezes60-89DiasAtrasoNaoPior': Column(int, nullable=True),\n",
    "                'NumeroDeDependentes': Column(float, nullable=True),\n",
    "            }\n",
    "        )\n",
    "        \n",
    "        try:\n",
    "            schema.validate(df)\n",
    "            print('Validation Passed')\n",
    "            return True\n",
    "        except pandera.errors.SchemaErrors as e:\n",
    "            print(f'Validation Failed: {e}')\n",
    "            pandera.display(e.failure_cases)\n",
    "            return False\n",
    "        \n",
    "    def run(self, df: pd.DataFrame) -> bool:\n",
    "        if self.check_shape_data(df):\n",
    "            if self.check_columns(df):\n",
    "                print(f'Validation Successeful')\n",
    "                return True\n",
    "            else:\n",
    "                return False\n",
    "        else:\n",
    "            return False"
   ]
  },
  {
   "cell_type": "code",
   "execution_count": 45,
   "metadata": {},
   "outputs": [
    {
     "name": "stdout",
     "output_type": "stream",
     "text": [
      "Validation Started\n",
      "Validation Passed\n",
      "Validation Successeful\n"
     ]
    },
    {
     "data": {
      "text/plain": [
       "True"
      ]
     },
     "execution_count": 45,
     "metadata": {},
     "output_type": "execute_result"
    }
   ],
   "source": [
    "dv = DataValidation(COLUMNS_TO_USE)\n",
    "dv.run(df)"
   ]
  },
  {
   "cell_type": "markdown",
   "metadata": {},
   "source": [
    "# Data Transformation"
   ]
  },
  {
   "cell_type": "code",
   "execution_count": 51,
   "metadata": {},
   "outputs": [],
   "source": [
    "class DataTransformation():\n",
    "    def __init__(self, df: pd.DataFrame, target: str) -> None:\n",
    "        self.df = df\n",
    "        self.target = target\n",
    "        \n",
    "    def train_test_split(self, test_size: float = None, stratify: list = None) -> tuple:\n",
    "        x = self.df.drop(self.target, axis=1)\n",
    "        y = self.df[self.target]\n",
    "        \n",
    "        x_train, x_test, y_train, y_test = train_test_split(x, y, test_size=test_size, stratify=stratify, random_state=42)\n",
    "        \n",
    "        return x_train, x_test, y_train, y_test\n",
    "        "
   ]
  },
  {
   "cell_type": "code",
   "execution_count": 58,
   "metadata": {},
   "outputs": [],
   "source": [
    "dt = DataTransformation(df, 'target')\n",
    "x_train, x_test, y_train, y_test = dt.train_test_split(stratify=df['target'])"
   ]
  },
  {
   "cell_type": "markdown",
   "metadata": {},
   "source": [
    "# Data Preprocessing"
   ]
  },
  {
   "cell_type": "code",
   "execution_count": 65,
   "metadata": {},
   "outputs": [],
   "source": [
    "class DataProcess:\n",
    "    def __init__(self, df: pd.DataFrame, pipe: Pipeline) -> None:\n",
    "        self.df = df\n",
    "        self.pipe = pipe\n",
    "        \n",
    "    def pipeline(self) -> Pipeline:\n",
    "        train_pipe = self.pipe\n",
    "        train_pipe.fit(self.df)\n",
    "        return train_pipe\n",
    "    \n",
    "    def run(self) -> pd.DataFrame:\n",
    "        print('Preprocessing Started')\n",
    "        trained_pipe = self.pipeline()\n",
    "        data_preprocessed = trained_pipe.transform(self.df)\n",
    "        print('Preprocessing Finished')\n",
    "        return data_preprocessed"
   ]
  },
  {
   "cell_type": "code",
   "execution_count": 66,
   "metadata": {},
   "outputs": [],
   "source": [
    "pipe = Pipeline(\n",
    "    [\n",
    "        ('imputer', MeanMedianImputer(variables=['RendaMensal', 'NumeroDeDependentes'])),\n",
    "        (\n",
    "            'discretizer',\n",
    "            EqualFrequencyDiscretiser(\n",
    "                variables=[\n",
    "                    'TaxaDeUtilizacaoDeLinhasNaoGarantidas',\n",
    "                    'TaxaDeEndividamento',\n",
    "                    'RendaMensal'\n",
    "                ]\n",
    "            )\n",
    "        ),\n",
    "        ('scaler', SklearnTransformerWrapper(StandardScaler()))\n",
    "    ]\n",
    ")"
   ]
  },
  {
   "cell_type": "code",
   "execution_count": 68,
   "metadata": {},
   "outputs": [
    {
     "name": "stdout",
     "output_type": "stream",
     "text": [
      "Preprocessing Started\n",
      "Preprocessing Finished\n"
     ]
    }
   ],
   "source": [
    "dp = DataProcess(x_train, pipe)\n",
    "x_train_processed = dp.run()"
   ]
  },
  {
   "cell_type": "code",
   "execution_count": 71,
   "metadata": {},
   "outputs": [
    {
     "data": {
      "text/plain": [
       "['/home/bem/repos/ml_flow/second_step/src/pipelines/preprocessor.joblib']"
      ]
     },
     "execution_count": 71,
     "metadata": {},
     "output_type": "execute_result"
    }
   ],
   "source": [
    "\n",
    "joblib.dump(dp.pipeline(), os.path.join(PIPE_PATH, 'preprocessor.joblib'))"
   ]
  },
  {
   "cell_type": "markdown",
   "metadata": {},
   "source": [
    "# Model Training"
   ]
  },
  {
   "cell_type": "code",
   "execution_count": 72,
   "metadata": {},
   "outputs": [],
   "source": [
    "class ModelTraining:\n",
    "    def __init__(self, x_data: pd.DataFrame, y_data: pd.DataFrame, model_path: str, model_name: str = 'model.joblib') -> None:\n",
    "        self.x_data = x_data\n",
    "        self.y_data = y_data\n",
    "        self.model_path = model_path\n",
    "        self.mode_name = model_name\n",
    "        self.model_file = os.path.join(self.model_path, self.mode_name)\n",
    "        \n",
    "    def model_train(self, model):\n",
    "        model.fit(self.x_data, self.y_data)\n",
    "        self._save_model(model)\n",
    "        return model\n",
    "    \n",
    "    def model_predict(self, x: pd.DataFrame) -> np.array:\n",
    "        model = self._load_model()\n",
    "        y_pred = model.predict_proba(x)\n",
    "        return y_pred\n",
    "    \n",
    "    def _save_model(self, model) -> None:\n",
    "        joblib.dump(model, self.model_file)\n",
    "    \n",
    "    def _load_model(self):\n",
    "        return joblib.load(self.model_file)"
   ]
  },
  {
   "cell_type": "code",
   "execution_count": 74,
   "metadata": {},
   "outputs": [],
   "source": [
    "mt = ModelTraining(x_train_processed, y_train, MODEL_PATH)\n",
    "mt.model_train(LogisticRegression())\n",
    "y_pred = mt.model_predict(x_train_processed)"
   ]
  },
  {
   "cell_type": "markdown",
   "metadata": {},
   "source": [
    "# Model Evaluation"
   ]
  },
  {
   "cell_type": "code",
   "execution_count": 78,
   "metadata": {},
   "outputs": [],
   "source": [
    "preprocessor = dp.pipeline()\n",
    "x_test_processed = preprocessor.transform(x_test)\n",
    "y_pred = mt.model_predict(x_test_processed)"
   ]
  },
  {
   "cell_type": "code",
   "execution_count": 87,
   "metadata": {},
   "outputs": [],
   "source": [
    "class ModelEvaluation:\n",
    "    def __init__(self) -> None:\n",
    "        pass\n",
    "    \n",
    "    def eval_metrics(self, y_true: np.array, y_pred: np.array) -> float:\n",
    "        auc = roc_auc_score(y_true, y_pred)\n",
    "        return auc"
   ]
  },
  {
   "cell_type": "code",
   "execution_count": 88,
   "metadata": {},
   "outputs": [
    {
     "data": {
      "text/plain": [
       "0.8003929165191288"
      ]
     },
     "execution_count": 88,
     "metadata": {},
     "output_type": "execute_result"
    }
   ],
   "source": [
    "me = ModelEvaluation()\n",
    "me.eval_metrics(y_test, y_pred[:, 1])"
   ]
  },
  {
   "cell_type": "markdown",
   "metadata": {},
   "source": [
    "# Experiments"
   ]
  },
  {
   "cell_type": "markdown",
   "metadata": {},
   "source": [
    "## #1"
   ]
  },
  {
   "cell_type": "code",
   "execution_count": 93,
   "metadata": {},
   "outputs": [
    {
     "name": "stdout",
     "output_type": "stream",
     "text": [
      "Preprocessing Started\n",
      "Preprocessing Finished\n"
     ]
    },
    {
     "data": {
      "text/plain": [
       "0.8003929165191288"
      ]
     },
     "execution_count": 93,
     "metadata": {},
     "output_type": "execute_result"
    }
   ],
   "source": [
    "# 1 - Preprocessing ----------------------------------------------\n",
    "pipe = Pipeline(\n",
    "    [\n",
    "        ('imputer', MeanMedianImputer(variables=['RendaMensal', 'NumeroDeDependentes'])),\n",
    "        (\n",
    "            'discretizer',\n",
    "            EqualFrequencyDiscretiser(\n",
    "                variables=[\n",
    "                    'TaxaDeUtilizacaoDeLinhasNaoGarantidas',\n",
    "                    'TaxaDeEndividamento',\n",
    "                    'RendaMensal'\n",
    "                ]\n",
    "            )\n",
    "        ),\n",
    "        ('scaler', SklearnTransformerWrapper(StandardScaler()))\n",
    "    ]\n",
    ")\n",
    "\n",
    "dp = DataProcess(x_train, pipe)\n",
    "x_train_processed = dp.run()\n",
    "\n",
    "# 2 - Model Training ---------------------------------------------\n",
    "mt = ModelTraining(x_train_processed, y_train, MODEL_PATH)\n",
    "mt.model_train(LogisticRegression())\n",
    "\n",
    "# 3 - Model Prediction -------------------------------------------\n",
    "preprocessor = dp.pipeline()\n",
    "x_test_processed = preprocessor.transform(x_test)\n",
    "y_pred = mt.model_predict(x_test_processed)\n",
    "\n",
    "# 4 - Model Evaluation -------------------------------------------\n",
    "me = ModelEvaluation()\n",
    "me.eval_metrics(y_test, y_pred[:, 1])"
   ]
  }
 ],
 "metadata": {
  "kernelspec": {
   "display_name": "ml_flow",
   "language": "python",
   "name": "python3"
  },
  "language_info": {
   "codemirror_mode": {
    "name": "ipython",
    "version": 3
   },
   "file_extension": ".py",
   "mimetype": "text/x-python",
   "name": "python",
   "nbconvert_exporter": "python",
   "pygments_lexer": "ipython3",
   "version": "3.10.13"
  }
 },
 "nbformat": 4,
 "nbformat_minor": 2
}
