{
 "cells": [
  {
   "cell_type": "markdown",
   "metadata": {},
   "source": [
    "# Settings"
   ]
  },
  {
   "cell_type": "markdown",
   "metadata": {},
   "source": [
    "## Imports"
   ]
  },
  {
   "cell_type": "code",
   "execution_count": 83,
   "metadata": {},
   "outputs": [],
   "source": [
    "import os, sys\n",
    "\n",
    "ROOT_DIR = os.path.abspath(os.path.join(os.path.dirname('__file__'), '..'))\n",
    "\n",
    "if ROOT_DIR not in sys.path:\n",
    "    sys.path.append(ROOT_DIR)"
   ]
  },
  {
   "cell_type": "code",
   "execution_count": 84,
   "metadata": {},
   "outputs": [],
   "source": [
    "import pandas as pd\n",
    "import numpy as np\n",
    "import unicodedata\n",
    "import re\n",
    "import pickle\n",
    "\n",
    "import matplotlib.pyplot as plt\n",
    "import seaborn as sns\n",
    "\n",
    "from sklearn.model_selection import train_test_split\n",
    "from sklearn.impute import SimpleImputer\n",
    "from sklearn.feature_selection import SelectPercentile\n",
    "\n",
    "from sklearn.linear_model import LogisticRegression\n",
    "\n",
    "from sklearn.metrics import roc_auc_score"
   ]
  },
  {
   "cell_type": "markdown",
   "metadata": {},
   "source": [
    "## Definitions"
   ]
  },
  {
   "cell_type": "code",
   "execution_count": 85,
   "metadata": {},
   "outputs": [],
   "source": [
    "RAW_DATA_DIR = os.path.join(ROOT_DIR, 'data', 'raw')\n",
    "PROCESSED_DATA_DIR = os.path.join(ROOT_DIR, 'data', 'processed')\n",
    "MODEL_DIR = os.path.join(ROOT_DIR, 'model')\n",
    "\n",
    "train_file = os.path.join(RAW_DATA_DIR, 'train.csv')\n",
    "test_file = os.path.join(RAW_DATA_DIR, 'test.csv')\n",
    "\n",
    "model_file = os.path.join(MODEL_DIR, 'final_model.pkl')\n",
    "\n",
    "np.random.seed(42)"
   ]
  },
  {
   "cell_type": "markdown",
   "metadata": {},
   "source": [
    "## Functions"
   ]
  },
  {
   "cell_type": "code",
   "execution_count": 86,
   "metadata": {},
   "outputs": [],
   "source": [
    "def jupyter_settings() -> None:\n",
    "\n",
    "    sns.set_palette('colorblind')\n",
    "    plt.style.use('seaborn-v0_8')\n",
    "    \n",
    "    plt.rcParams.update(\n",
    "        {\n",
    "            'figure.figsize': [25, 8],\n",
    "            'font.size': 18,\n",
    "        }\n",
    "    )\n",
    "                        \n",
    "    pd.set_option('display.max_columns', None)\n",
    "    pd.set_option('display.max_rows', 50)    \n",
    "    pd.set_option('display.expand_frame_repr', False)\n",
    "    pd.set_option('display.float_format', lambda x: '%.2f' % x)\n",
    "    \n",
    "    sns.set()\n",
    "    \n",
    "def replace_seps(strings) -> list:\n",
    "    return [str(x).replace(' ', '_').replace('-', '_') for x in strings]\n",
    "\n",
    "def remove_special_chars(strings) -> list:\n",
    "    new_strings = []\n",
    "    for input_string in strings:\n",
    "        input_string = unicodedata.normalize('NFKD', input_string).encode('ASCII', 'ignore').decode('ASCII')\n",
    "        \n",
    "        cleaned_string = re.sub('[^a-zA-Z0-9_]', '', input_string)\n",
    "        \n",
    "        new_strings.append(cleaned_string)\n",
    "        \n",
    "    return new_strings\n",
    "\n",
    "def strings_to_lower(strings) -> list:\n",
    "    return [str(x).lower() for x in strings]\n",
    "\n",
    "def from_camel_to_snake_case(strings) -> list:\n",
    "    return [re.sub('([A-Z][a-z]+)', r'_\\1', x).strip('_') for x in strings]\n",
    "\n",
    "def to_snake_case(strings) -> list:\n",
    "    converted_strings = strings.str.strip()\n",
    "    converted_strings = replace_seps(converted_strings)\n",
    "    converted_strings = remove_special_chars(converted_strings)\n",
    "    converted_strings = from_camel_to_snake_case(converted_strings)\n",
    "    converted_strings = strings_to_lower(converted_strings)\n",
    "    \n",
    "    return converted_strings\n",
    "\n",
    "def show_dimensions(df) -> None:\n",
    "    rows, cols = df.shape\n",
    "    print(f'Linhas: {rows}')\n",
    "    print(f'Colunas: {cols}')\n",
    "    \n",
    "def nan_status(df, supress=True) -> pd.DataFrame:\n",
    "    sum_na = df.isna().sum()\n",
    "    prc_na = np.round(df.isna().mean() * 100, 2).astype(str) + '%'\n",
    "    \n",
    "    data = {\n",
    "        'number_of_nan': sum_na,\n",
    "        'percentage_of_nan': prc_na\n",
    "    }\n",
    "    \n",
    "    df = pd.DataFrame(data)\n",
    "    \n",
    "    if supress:\n",
    "        df = df.loc[df['number_of_nan'] > 0]\n",
    "        \n",
    "    return df\n",
    "    \n",
    "jupyter_settings()"
   ]
  },
  {
   "cell_type": "markdown",
   "metadata": {},
   "source": [
    "## Data Load"
   ]
  },
  {
   "cell_type": "code",
   "execution_count": 87,
   "metadata": {},
   "outputs": [],
   "source": [
    "df = pd.read_csv(train_file, index_col=0)"
   ]
  },
  {
   "cell_type": "markdown",
   "metadata": {},
   "source": [
    "## Data Split"
   ]
  },
  {
   "cell_type": "code",
   "execution_count": 88,
   "metadata": {},
   "outputs": [],
   "source": [
    "x = df.drop('target', axis=1)\n",
    "y = df['target']\n",
    "\n",
    "x_train, x_test, y_train, y_test = train_test_split(x, y, test_size=0.2, stratify=y)"
   ]
  },
  {
   "cell_type": "markdown",
   "metadata": {},
   "source": [
    "# Data Description"
   ]
  },
  {
   "cell_type": "code",
   "execution_count": 89,
   "metadata": {},
   "outputs": [],
   "source": [
    "df1 = pd.concat([x_train, y_train], axis=1)"
   ]
  },
  {
   "cell_type": "markdown",
   "metadata": {},
   "source": [
    "## Rename Features"
   ]
  },
  {
   "cell_type": "code",
   "execution_count": 90,
   "metadata": {},
   "outputs": [],
   "source": [
    "df1.columns = to_snake_case(df1.columns)\n",
    "x_test.columns = to_snake_case(x_test.columns)"
   ]
  },
  {
   "cell_type": "markdown",
   "metadata": {},
   "source": [
    "## Data Dimensions"
   ]
  },
  {
   "cell_type": "code",
   "execution_count": 91,
   "metadata": {},
   "outputs": [
    {
     "name": "stdout",
     "output_type": "stream",
     "text": [
      "Linhas: 120000\n",
      "Colunas: 11\n"
     ]
    }
   ],
   "source": [
    "show_dimensions(df1)"
   ]
  },
  {
   "cell_type": "markdown",
   "metadata": {},
   "source": [
    "## Data Types"
   ]
  },
  {
   "cell_type": "code",
   "execution_count": 92,
   "metadata": {},
   "outputs": [
    {
     "data": {
      "text/plain": [
       "taxa_de_utilizacao_de_linhas_nao_garantidas         float64\n",
       "idade                                                 int64\n",
       "numero_de_vezes30_59_dias_atraso_nao_pior             int64\n",
       "taxa_de_endividamento                               float64\n",
       "renda_mensal                                        float64\n",
       "numero_de_linhas_de_creditoe_emprestimos_abertos      int64\n",
       "numero_de_vezes90_dias_atraso                         int64\n",
       "numero_de_emprestimos_ou_linhas_imobiliarias          int64\n",
       "numero_de_vezes60_89_dias_atraso_nao_pior             int64\n",
       "numero_de_dependentes                               float64\n",
       "target                                                int64\n",
       "dtype: object"
      ]
     },
     "execution_count": 92,
     "metadata": {},
     "output_type": "execute_result"
    }
   ],
   "source": [
    "df1.dtypes"
   ]
  },
  {
   "cell_type": "markdown",
   "metadata": {},
   "source": [
    "## Missing Data"
   ]
  },
  {
   "cell_type": "code",
   "execution_count": 93,
   "metadata": {},
   "outputs": [
    {
     "data": {
      "text/html": [
       "<div>\n",
       "<style scoped>\n",
       "    .dataframe tbody tr th:only-of-type {\n",
       "        vertical-align: middle;\n",
       "    }\n",
       "\n",
       "    .dataframe tbody tr th {\n",
       "        vertical-align: top;\n",
       "    }\n",
       "\n",
       "    .dataframe thead th {\n",
       "        text-align: right;\n",
       "    }\n",
       "</style>\n",
       "<table border=\"1\" class=\"dataframe\">\n",
       "  <thead>\n",
       "    <tr style=\"text-align: right;\">\n",
       "      <th></th>\n",
       "      <th>number_of_nan</th>\n",
       "      <th>percentage_of_nan</th>\n",
       "    </tr>\n",
       "  </thead>\n",
       "  <tbody>\n",
       "    <tr>\n",
       "      <th>renda_mensal</th>\n",
       "      <td>23675</td>\n",
       "      <td>19.73%</td>\n",
       "    </tr>\n",
       "    <tr>\n",
       "      <th>numero_de_dependentes</th>\n",
       "      <td>3128</td>\n",
       "      <td>2.61%</td>\n",
       "    </tr>\n",
       "  </tbody>\n",
       "</table>\n",
       "</div>"
      ],
      "text/plain": [
       "                       number_of_nan percentage_of_nan\n",
       "renda_mensal                   23675            19.73%\n",
       "numero_de_dependentes           3128             2.61%"
      ]
     },
     "execution_count": 93,
     "metadata": {},
     "output_type": "execute_result"
    }
   ],
   "source": [
    "nan_status(df1)"
   ]
  },
  {
   "cell_type": "code",
   "execution_count": 94,
   "metadata": {},
   "outputs": [
    {
     "data": {
      "text/html": [
       "<div>\n",
       "<style scoped>\n",
       "    .dataframe tbody tr th:only-of-type {\n",
       "        vertical-align: middle;\n",
       "    }\n",
       "\n",
       "    .dataframe tbody tr th {\n",
       "        vertical-align: top;\n",
       "    }\n",
       "\n",
       "    .dataframe thead th {\n",
       "        text-align: right;\n",
       "    }\n",
       "</style>\n",
       "<table border=\"1\" class=\"dataframe\">\n",
       "  <thead>\n",
       "    <tr style=\"text-align: right;\">\n",
       "      <th></th>\n",
       "      <th>number_of_nan</th>\n",
       "      <th>percentage_of_nan</th>\n",
       "    </tr>\n",
       "  </thead>\n",
       "  <tbody>\n",
       "    <tr>\n",
       "      <th>renda_mensal</th>\n",
       "      <td>6056</td>\n",
       "      <td>20.19%</td>\n",
       "    </tr>\n",
       "    <tr>\n",
       "      <th>numero_de_dependentes</th>\n",
       "      <td>796</td>\n",
       "      <td>2.65%</td>\n",
       "    </tr>\n",
       "  </tbody>\n",
       "</table>\n",
       "</div>"
      ],
      "text/plain": [
       "                       number_of_nan percentage_of_nan\n",
       "renda_mensal                    6056            20.19%\n",
       "numero_de_dependentes            796             2.65%"
      ]
     },
     "execution_count": 94,
     "metadata": {},
     "output_type": "execute_result"
    }
   ],
   "source": [
    "nan_status(x_test)"
   ]
  },
  {
   "cell_type": "markdown",
   "metadata": {},
   "source": [
    "## Data Describe"
   ]
  },
  {
   "cell_type": "code",
   "execution_count": 95,
   "metadata": {},
   "outputs": [
    {
     "data": {
      "text/html": [
       "<div>\n",
       "<style scoped>\n",
       "    .dataframe tbody tr th:only-of-type {\n",
       "        vertical-align: middle;\n",
       "    }\n",
       "\n",
       "    .dataframe tbody tr th {\n",
       "        vertical-align: top;\n",
       "    }\n",
       "\n",
       "    .dataframe thead th {\n",
       "        text-align: right;\n",
       "    }\n",
       "</style>\n",
       "<table border=\"1\" class=\"dataframe\">\n",
       "  <thead>\n",
       "    <tr style=\"text-align: right;\">\n",
       "      <th></th>\n",
       "      <th>taxa_de_utilizacao_de_linhas_nao_garantidas</th>\n",
       "      <th>idade</th>\n",
       "      <th>numero_de_vezes30_59_dias_atraso_nao_pior</th>\n",
       "      <th>taxa_de_endividamento</th>\n",
       "      <th>renda_mensal</th>\n",
       "      <th>numero_de_linhas_de_creditoe_emprestimos_abertos</th>\n",
       "      <th>numero_de_vezes90_dias_atraso</th>\n",
       "      <th>numero_de_emprestimos_ou_linhas_imobiliarias</th>\n",
       "      <th>numero_de_vezes60_89_dias_atraso_nao_pior</th>\n",
       "      <th>numero_de_dependentes</th>\n",
       "      <th>target</th>\n",
       "    </tr>\n",
       "  </thead>\n",
       "  <tbody>\n",
       "    <tr>\n",
       "      <th>count</th>\n",
       "      <td>120000.00</td>\n",
       "      <td>120000.00</td>\n",
       "      <td>120000.00</td>\n",
       "      <td>120000.00</td>\n",
       "      <td>96325.00</td>\n",
       "      <td>120000.00</td>\n",
       "      <td>120000.00</td>\n",
       "      <td>120000.00</td>\n",
       "      <td>120000.00</td>\n",
       "      <td>116872.00</td>\n",
       "      <td>120000.00</td>\n",
       "    </tr>\n",
       "    <tr>\n",
       "      <th>mean</th>\n",
       "      <td>6.13</td>\n",
       "      <td>52.29</td>\n",
       "      <td>0.42</td>\n",
       "      <td>352.27</td>\n",
       "      <td>6651.51</td>\n",
       "      <td>8.47</td>\n",
       "      <td>0.26</td>\n",
       "      <td>1.02</td>\n",
       "      <td>0.24</td>\n",
       "      <td>0.76</td>\n",
       "      <td>0.07</td>\n",
       "    </tr>\n",
       "    <tr>\n",
       "      <th>std</th>\n",
       "      <td>253.36</td>\n",
       "      <td>14.77</td>\n",
       "      <td>4.18</td>\n",
       "      <td>2093.71</td>\n",
       "      <td>14541.18</td>\n",
       "      <td>5.16</td>\n",
       "      <td>4.16</td>\n",
       "      <td>1.13</td>\n",
       "      <td>4.14</td>\n",
       "      <td>1.12</td>\n",
       "      <td>0.25</td>\n",
       "    </tr>\n",
       "    <tr>\n",
       "      <th>min</th>\n",
       "      <td>0.00</td>\n",
       "      <td>0.00</td>\n",
       "      <td>0.00</td>\n",
       "      <td>0.00</td>\n",
       "      <td>0.00</td>\n",
       "      <td>0.00</td>\n",
       "      <td>0.00</td>\n",
       "      <td>0.00</td>\n",
       "      <td>0.00</td>\n",
       "      <td>0.00</td>\n",
       "      <td>0.00</td>\n",
       "    </tr>\n",
       "    <tr>\n",
       "      <th>25%</th>\n",
       "      <td>0.03</td>\n",
       "      <td>41.00</td>\n",
       "      <td>0.00</td>\n",
       "      <td>0.18</td>\n",
       "      <td>3400.00</td>\n",
       "      <td>5.00</td>\n",
       "      <td>0.00</td>\n",
       "      <td>0.00</td>\n",
       "      <td>0.00</td>\n",
       "      <td>0.00</td>\n",
       "      <td>0.00</td>\n",
       "    </tr>\n",
       "    <tr>\n",
       "      <th>50%</th>\n",
       "      <td>0.15</td>\n",
       "      <td>52.00</td>\n",
       "      <td>0.00</td>\n",
       "      <td>0.37</td>\n",
       "      <td>5390.00</td>\n",
       "      <td>8.00</td>\n",
       "      <td>0.00</td>\n",
       "      <td>1.00</td>\n",
       "      <td>0.00</td>\n",
       "      <td>0.00</td>\n",
       "      <td>0.00</td>\n",
       "    </tr>\n",
       "    <tr>\n",
       "      <th>75%</th>\n",
       "      <td>0.56</td>\n",
       "      <td>63.00</td>\n",
       "      <td>0.00</td>\n",
       "      <td>0.86</td>\n",
       "      <td>8238.00</td>\n",
       "      <td>11.00</td>\n",
       "      <td>0.00</td>\n",
       "      <td>2.00</td>\n",
       "      <td>0.00</td>\n",
       "      <td>1.00</td>\n",
       "      <td>0.00</td>\n",
       "    </tr>\n",
       "    <tr>\n",
       "      <th>max</th>\n",
       "      <td>50708.00</td>\n",
       "      <td>109.00</td>\n",
       "      <td>98.00</td>\n",
       "      <td>329664.00</td>\n",
       "      <td>3008750.00</td>\n",
       "      <td>58.00</td>\n",
       "      <td>98.00</td>\n",
       "      <td>54.00</td>\n",
       "      <td>98.00</td>\n",
       "      <td>20.00</td>\n",
       "      <td>1.00</td>\n",
       "    </tr>\n",
       "  </tbody>\n",
       "</table>\n",
       "</div>"
      ],
      "text/plain": [
       "       taxa_de_utilizacao_de_linhas_nao_garantidas     idade  numero_de_vezes30_59_dias_atraso_nao_pior  taxa_de_endividamento  renda_mensal  numero_de_linhas_de_creditoe_emprestimos_abertos  numero_de_vezes90_dias_atraso  numero_de_emprestimos_ou_linhas_imobiliarias  numero_de_vezes60_89_dias_atraso_nao_pior  numero_de_dependentes    target\n",
       "count                                    120000.00 120000.00                                  120000.00              120000.00      96325.00                                         120000.00                      120000.00                                     120000.00                                  120000.00              116872.00 120000.00\n",
       "mean                                          6.13     52.29                                       0.42                 352.27       6651.51                                              8.47                           0.26                                          1.02                                       0.24                   0.76      0.07\n",
       "std                                         253.36     14.77                                       4.18                2093.71      14541.18                                              5.16                           4.16                                          1.13                                       4.14                   1.12      0.25\n",
       "min                                           0.00      0.00                                       0.00                   0.00          0.00                                              0.00                           0.00                                          0.00                                       0.00                   0.00      0.00\n",
       "25%                                           0.03     41.00                                       0.00                   0.18       3400.00                                              5.00                           0.00                                          0.00                                       0.00                   0.00      0.00\n",
       "50%                                           0.15     52.00                                       0.00                   0.37       5390.00                                              8.00                           0.00                                          1.00                                       0.00                   0.00      0.00\n",
       "75%                                           0.56     63.00                                       0.00                   0.86       8238.00                                             11.00                           0.00                                          2.00                                       0.00                   1.00      0.00\n",
       "max                                       50708.00    109.00                                      98.00              329664.00    3008750.00                                             58.00                          98.00                                         54.00                                      98.00                  20.00      1.00"
      ]
     },
     "execution_count": 95,
     "metadata": {},
     "output_type": "execute_result"
    }
   ],
   "source": [
    "df1.describe()"
   ]
  },
  {
   "cell_type": "markdown",
   "metadata": {},
   "source": [
    "## Data Treatment"
   ]
  },
  {
   "cell_type": "code",
   "execution_count": 96,
   "metadata": {},
   "outputs": [],
   "source": [
    "x_train = df1.drop('target', axis=1)\n",
    "y_train = df1['target']"
   ]
  },
  {
   "cell_type": "code",
   "execution_count": 97,
   "metadata": {},
   "outputs": [],
   "source": [
    "imputer_mean = SimpleImputer(strategy='mean')\n",
    "cols_to_impute = ['renda_mensal', 'numero_de_dependentes']\n",
    "\n",
    "imputer_mean.fit(x_train[cols_to_impute])\n",
    "\n",
    "# train\n",
    "x_train[cols_to_impute] = imputer_mean.transform(x_train[cols_to_impute])\n",
    "\n",
    "# test\n",
    "x_test[cols_to_impute] = imputer_mean.transform(x_test[cols_to_impute])"
   ]
  },
  {
   "cell_type": "markdown",
   "metadata": {},
   "source": [
    "# Data Selection"
   ]
  },
  {
   "cell_type": "code",
   "execution_count": 98,
   "metadata": {},
   "outputs": [
    {
     "name": "stdout",
     "output_type": "stream",
     "text": [
      "x_train shape: (120000, 10)\n",
      "x_train_selected shape: (120000, 5)\n"
     ]
    },
    {
     "data": {
      "text/plain": [
       "['idade',\n",
       " 'numero_de_vezes30_59_dias_atraso_nao_pior',\n",
       " 'numero_de_vezes90_dias_atraso',\n",
       " 'numero_de_vezes60_89_dias_atraso_nao_pior',\n",
       " 'numero_de_dependentes']"
      ]
     },
     "execution_count": 98,
     "metadata": {},
     "output_type": "execute_result"
    }
   ],
   "source": [
    "select = SelectPercentile(percentile=50)\n",
    "select.fit(x_train, y_train)\n",
    "\n",
    "x_train_selected = select.transform(x_train)\n",
    "\n",
    "print(f'x_train shape: {x_train.shape}')\n",
    "print(f'x_train_selected shape: {x_train_selected.shape}')\n",
    "\n",
    "select_cols = [x_train.columns[i] for i in select.get_support(indices=True)]\n",
    "select_cols"
   ]
  },
  {
   "cell_type": "markdown",
   "metadata": {},
   "source": [
    "# Model Training"
   ]
  },
  {
   "cell_type": "markdown",
   "metadata": {},
   "source": [
    "## Logistic Regression - Baseline"
   ]
  },
  {
   "cell_type": "code",
   "execution_count": 99,
   "metadata": {},
   "outputs": [],
   "source": [
    "x_test_selected = select.transform(x_test)"
   ]
  },
  {
   "cell_type": "code",
   "execution_count": 100,
   "metadata": {},
   "outputs": [
    {
     "name": "stdout",
     "output_type": "stream",
     "text": [
      "ROC AUC with all features: 0.6647634975786111\n"
     ]
    }
   ],
   "source": [
    "# model definition\n",
    "lr_model = LogisticRegression(max_iter=1000)\n",
    "\n",
    "# model training\n",
    "lr_model.fit(x_train, y_train)\n",
    "\n",
    "# model prediction\n",
    "y_pred = lr_model.predict_proba(x_test)[:, 1]\n",
    "\n",
    "# model performance\n",
    "roc = roc_auc_score(y_test, y_pred)\n",
    "print(f'ROC AUC with all features: {roc}')"
   ]
  },
  {
   "cell_type": "code",
   "execution_count": 101,
   "metadata": {},
   "outputs": [
    {
     "name": "stdout",
     "output_type": "stream",
     "text": [
      "ROC AUC with selected features: 0.7116077906679987\n"
     ]
    }
   ],
   "source": [
    "# model training\n",
    "lr_model.fit(x_train_selected, y_train)\n",
    "\n",
    "# model prediction\n",
    "y_pred = lr_model.predict_proba(x_test_selected)[:, 1]\n",
    "\n",
    "# model performance\n",
    "auc = roc_auc_score(y_test, y_pred)\n",
    "print(f'ROC AUC with selected features: {auc}')"
   ]
  },
  {
   "cell_type": "markdown",
   "metadata": {},
   "source": [
    "# Hyperparameter Tuning"
   ]
  },
  {
   "cell_type": "code",
   "execution_count": 102,
   "metadata": {},
   "outputs": [
    {
     "data": {
      "text/html": [
       "<div>\n",
       "<style scoped>\n",
       "    .dataframe tbody tr th:only-of-type {\n",
       "        vertical-align: middle;\n",
       "    }\n",
       "\n",
       "    .dataframe tbody tr th {\n",
       "        vertical-align: top;\n",
       "    }\n",
       "\n",
       "    .dataframe thead th {\n",
       "        text-align: right;\n",
       "    }\n",
       "</style>\n",
       "<table border=\"1\" class=\"dataframe\">\n",
       "  <thead>\n",
       "    <tr style=\"text-align: right;\">\n",
       "      <th></th>\n",
       "      <th>model</th>\n",
       "      <th>auc_score</th>\n",
       "      <th>solver</th>\n",
       "      <th>penalty</th>\n",
       "      <th>max_iter</th>\n",
       "    </tr>\n",
       "  </thead>\n",
       "  <tbody>\n",
       "    <tr>\n",
       "      <th>0</th>\n",
       "      <td>LogisticRegression</td>\n",
       "      <td>0.71</td>\n",
       "      <td>newton-cg</td>\n",
       "      <td>None</td>\n",
       "      <td>1000.00</td>\n",
       "    </tr>\n",
       "    <tr>\n",
       "      <th>1</th>\n",
       "      <td>LogisticRegression</td>\n",
       "      <td>0.71</td>\n",
       "      <td>lbfgs</td>\n",
       "      <td>None</td>\n",
       "      <td>1000.00</td>\n",
       "    </tr>\n",
       "    <tr>\n",
       "      <th>3</th>\n",
       "      <td>LogisticRegression</td>\n",
       "      <td>0.71</td>\n",
       "      <td>saga</td>\n",
       "      <td>None</td>\n",
       "      <td>1000.00</td>\n",
       "    </tr>\n",
       "    <tr>\n",
       "      <th>2</th>\n",
       "      <td>LogisticRegression</td>\n",
       "      <td>0.71</td>\n",
       "      <td>sag</td>\n",
       "      <td>None</td>\n",
       "      <td>1000.00</td>\n",
       "    </tr>\n",
       "  </tbody>\n",
       "</table>\n",
       "</div>"
      ],
      "text/plain": [
       "                model  auc_score     solver penalty  max_iter\n",
       "0  LogisticRegression       0.71  newton-cg    None   1000.00\n",
       "1  LogisticRegression       0.71      lbfgs    None   1000.00\n",
       "3  LogisticRegression       0.71       saga    None   1000.00\n",
       "2  LogisticRegression       0.71        sag    None   1000.00"
      ]
     },
     "execution_count": 102,
     "metadata": {},
     "output_type": "execute_result"
    }
   ],
   "source": [
    "clf = [\n",
    "    LogisticRegression(solver='newton-cg', penalty=None, max_iter=1000),\n",
    "    LogisticRegression(solver='lbfgs', penalty=None, max_iter=1000),\n",
    "    LogisticRegression(solver='sag', penalty=None, max_iter=1000),\n",
    "    LogisticRegression(solver='saga', penalty=None, max_iter=1000)\n",
    "]\n",
    "\n",
    "clf_columns = []\n",
    "clf_compare = pd.DataFrame(columns=clf_columns)\n",
    "\n",
    "row_index = 0\n",
    "\n",
    "for lr_model in clf:\n",
    "    lr_model.fit(x_train_selected, y_train)\n",
    "    y_pred = lr_model.predict_proba(x_test_selected)[:, 1]\n",
    "    auc = roc_auc_score(y_test, y_pred)\n",
    "    \n",
    "    clf_compare.loc[row_index, 'model'] = lr_model.__class__.__name__\n",
    "    clf_compare.loc[row_index, 'auc_score'] = auc\n",
    "    clf_compare.loc[row_index, 'solver'] = lr_model.solver\n",
    "    clf_compare.loc[row_index, 'penalty'] = lr_model.penalty\n",
    "    clf_compare.loc[row_index, 'max_iter'] = lr_model.max_iter\n",
    "    \n",
    "    row_index += 1\n",
    "    \n",
    "clf_compare = clf_compare.sort_values(by=['auc_score'], ascending=False)\n",
    "clf_compare"
   ]
  },
  {
   "cell_type": "markdown",
   "metadata": {},
   "source": [
    "# Deploy"
   ]
  },
  {
   "cell_type": "markdown",
   "metadata": {},
   "source": [
    "## Final Model"
   ]
  },
  {
   "cell_type": "code",
   "execution_count": 103,
   "metadata": {},
   "outputs": [
    {
     "name": "stderr",
     "output_type": "stream",
     "text": [
      "/home/bem/.pyenv/versions/3.10.13/envs/ml_flow/lib/python3.10/site-packages/sklearn/linear_model/_sag.py:350: ConvergenceWarning: The max_iter was reached which means the coef_ did not converge\n",
      "  warnings.warn(\n"
     ]
    }
   ],
   "source": [
    "final_model = LogisticRegression(solver='sag', penalty=None, max_iter=1000)\n",
    "\n",
    "X_train = pd.concat([x_train, x_test], axis=0)\n",
    "Y_train = pd.concat([y_train, y_test], axis=0)\n",
    "\n",
    "final_model.fit(X_train, Y_train)\n",
    "\n",
    "pickle.dump(final_model, open(model_file, 'wb'))"
   ]
  }
 ],
 "metadata": {
  "kernelspec": {
   "display_name": "ml_flow",
   "language": "python",
   "name": "python3"
  },
  "language_info": {
   "codemirror_mode": {
    "name": "ipython",
    "version": 3
   },
   "file_extension": ".py",
   "mimetype": "text/x-python",
   "name": "python",
   "nbconvert_exporter": "python",
   "pygments_lexer": "ipython3",
   "version": "3.10.13"
  }
 },
 "nbformat": 4,
 "nbformat_minor": 2
}
