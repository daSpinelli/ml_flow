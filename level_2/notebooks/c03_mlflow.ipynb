{
 "cells": [
  {
   "cell_type": "code",
   "execution_count": 1,
   "metadata": {},
   "outputs": [],
   "source": [
    "import os, sys\n",
    "\n",
    "ROOT_DIR = os.path.abspath(os.path.join(os.path.dirname('__file__'), '..', '..'))\n",
    "if ROOT_DIR not in sys.path:\n",
    "    sys.path.append(ROOT_DIR)"
   ]
  },
  {
   "cell_type": "code",
   "execution_count": 2,
   "metadata": {},
   "outputs": [],
   "source": [
    "from sklearn.pipeline import Pipeline\n",
    "from sklearn.preprocessing import StandardScaler\n",
    "from feature_engine.imputation import MeanMedianImputer\n",
    "from feature_engine.discretisation import EqualFrequencyDiscretiser\n",
    "from feature_engine.wrappers import SklearnTransformerWrapper\n",
    "from sklearn.linear_model import LogisticRegression\n",
    "\n",
    "from level_2.src.utils.utils import load_config\n",
    "from level_2.src.data.data_load import DataLoad\n",
    "from level_2.src.data.data_validation import DataValidation\n",
    "from level_2.src.data.data_transform import DataTransform\n",
    "from level_2.src.data.data_preprocess import DataPreprocess\n",
    "from level_2.src.train.model_training import ModelTraining\n",
    "from level_2.src.evaluation.classifier_eval import ClassifierEvaluation"
   ]
  },
  {
   "cell_type": "code",
   "execution_count": 3,
   "metadata": {},
   "outputs": [],
   "source": [
    "LEVEL_DIR = os.path.join(ROOT_DIR, 'level_2')\n",
    "RAW_DATA_DIR = os.path.join(LEVEL_DIR, 'data', 'raw')\n",
    "\n",
    "train_data_file = 'train.csv'\n",
    "\n",
    "train_data_path = os.path.join(RAW_DATA_DIR, train_data_file)"
   ]
  },
  {
   "cell_type": "code",
   "execution_count": 4,
   "metadata": {},
   "outputs": [
    {
     "name": "stdout",
     "output_type": "stream",
     "text": [
      "\u001b[2m2023-12-07 11:20:45\u001b[0m [\u001b[32m\u001b[1minfo     \u001b[0m] \u001b[1mReading data from CSV file...\u001b[0m\n",
      "\u001b[2m2023-12-07 11:20:45\u001b[0m [\u001b[32m\u001b[1minfo     \u001b[0m] \u001b[1mData read successfully.\u001b[0m\n"
     ]
    },
    {
     "data": {
      "text/html": [
       "<div>\n",
       "<style scoped>\n",
       "    .dataframe tbody tr th:only-of-type {\n",
       "        vertical-align: middle;\n",
       "    }\n",
       "\n",
       "    .dataframe tbody tr th {\n",
       "        vertical-align: top;\n",
       "    }\n",
       "\n",
       "    .dataframe thead th {\n",
       "        text-align: right;\n",
       "    }\n",
       "</style>\n",
       "<table border=\"1\" class=\"dataframe\">\n",
       "  <thead>\n",
       "    <tr style=\"text-align: right;\">\n",
       "      <th></th>\n",
       "      <th>target</th>\n",
       "      <th>TaxaDeUtilizacaoDeLinhasNaoGarantidas</th>\n",
       "      <th>Idade</th>\n",
       "      <th>NumeroDeVezes30-59DiasAtrasoNaoPior</th>\n",
       "      <th>TaxaDeEndividamento</th>\n",
       "      <th>RendaMensal</th>\n",
       "      <th>NumeroDeLinhasDeCreditoEEmprestimosAbertos</th>\n",
       "      <th>NumeroDeVezes90DiasAtraso</th>\n",
       "      <th>NumeroDeEmprestimosOuLinhasImobiliarias</th>\n",
       "      <th>NumeroDeVezes60-89DiasAtrasoNaoPior</th>\n",
       "      <th>NumeroDeDependentes</th>\n",
       "    </tr>\n",
       "  </thead>\n",
       "  <tbody>\n",
       "    <tr>\n",
       "      <th>0</th>\n",
       "      <td>1</td>\n",
       "      <td>0.766127</td>\n",
       "      <td>45</td>\n",
       "      <td>2</td>\n",
       "      <td>0.802982</td>\n",
       "      <td>9120.0</td>\n",
       "      <td>13</td>\n",
       "      <td>0</td>\n",
       "      <td>6</td>\n",
       "      <td>0</td>\n",
       "      <td>2.0</td>\n",
       "    </tr>\n",
       "    <tr>\n",
       "      <th>1</th>\n",
       "      <td>0</td>\n",
       "      <td>0.957151</td>\n",
       "      <td>40</td>\n",
       "      <td>0</td>\n",
       "      <td>0.121876</td>\n",
       "      <td>2600.0</td>\n",
       "      <td>4</td>\n",
       "      <td>0</td>\n",
       "      <td>0</td>\n",
       "      <td>0</td>\n",
       "      <td>1.0</td>\n",
       "    </tr>\n",
       "    <tr>\n",
       "      <th>2</th>\n",
       "      <td>0</td>\n",
       "      <td>0.658180</td>\n",
       "      <td>38</td>\n",
       "      <td>1</td>\n",
       "      <td>0.085113</td>\n",
       "      <td>3042.0</td>\n",
       "      <td>2</td>\n",
       "      <td>1</td>\n",
       "      <td>0</td>\n",
       "      <td>0</td>\n",
       "      <td>0.0</td>\n",
       "    </tr>\n",
       "    <tr>\n",
       "      <th>3</th>\n",
       "      <td>0</td>\n",
       "      <td>0.233810</td>\n",
       "      <td>30</td>\n",
       "      <td>0</td>\n",
       "      <td>0.036050</td>\n",
       "      <td>3300.0</td>\n",
       "      <td>5</td>\n",
       "      <td>0</td>\n",
       "      <td>0</td>\n",
       "      <td>0</td>\n",
       "      <td>0.0</td>\n",
       "    </tr>\n",
       "    <tr>\n",
       "      <th>4</th>\n",
       "      <td>0</td>\n",
       "      <td>0.907239</td>\n",
       "      <td>49</td>\n",
       "      <td>1</td>\n",
       "      <td>0.024926</td>\n",
       "      <td>63588.0</td>\n",
       "      <td>7</td>\n",
       "      <td>0</td>\n",
       "      <td>1</td>\n",
       "      <td>0</td>\n",
       "      <td>0.0</td>\n",
       "    </tr>\n",
       "  </tbody>\n",
       "</table>\n",
       "</div>"
      ],
      "text/plain": [
       "   target  TaxaDeUtilizacaoDeLinhasNaoGarantidas  Idade  \\\n",
       "0       1                               0.766127     45   \n",
       "1       0                               0.957151     40   \n",
       "2       0                               0.658180     38   \n",
       "3       0                               0.233810     30   \n",
       "4       0                               0.907239     49   \n",
       "\n",
       "   NumeroDeVezes30-59DiasAtrasoNaoPior  TaxaDeEndividamento  RendaMensal  \\\n",
       "0                                    2             0.802982       9120.0   \n",
       "1                                    0             0.121876       2600.0   \n",
       "2                                    1             0.085113       3042.0   \n",
       "3                                    0             0.036050       3300.0   \n",
       "4                                    1             0.024926      63588.0   \n",
       "\n",
       "   NumeroDeLinhasDeCreditoEEmprestimosAbertos  NumeroDeVezes90DiasAtraso  \\\n",
       "0                                          13                          0   \n",
       "1                                           4                          0   \n",
       "2                                           2                          1   \n",
       "3                                           5                          0   \n",
       "4                                           7                          0   \n",
       "\n",
       "   NumeroDeEmprestimosOuLinhasImobiliarias  \\\n",
       "0                                        6   \n",
       "1                                        0   \n",
       "2                                        0   \n",
       "3                                        0   \n",
       "4                                        1   \n",
       "\n",
       "   NumeroDeVezes60-89DiasAtrasoNaoPior  NumeroDeDependentes  \n",
       "0                                    0                  2.0  \n",
       "1                                    0                  1.0  \n",
       "2                                    0                  0.0  \n",
       "3                                    0                  0.0  \n",
       "4                                    0                  0.0  "
      ]
     },
     "execution_count": 4,
     "metadata": {},
     "output_type": "execute_result"
    }
   ],
   "source": [
    "dl = DataLoad()\n",
    "\n",
    "df = dl.run(train_data_path, index_col=0)\n",
    "df.head()"
   ]
  },
  {
   "cell_type": "code",
   "execution_count": 5,
   "metadata": {},
   "outputs": [
    {
     "name": "stdout",
     "output_type": "stream",
     "text": [
      "\u001b[2m2023-12-07 11:20:45\u001b[0m [\u001b[32m\u001b[1minfo     \u001b[0m] \u001b[1mValidation started\u001b[0m\n",
      "\u001b[2m2023-12-07 11:20:45\u001b[0m [\u001b[32m\u001b[1minfo     \u001b[0m] \u001b[1mValidation passed\u001b[0m\n",
      "\u001b[2m2023-12-07 11:20:45\u001b[0m [\u001b[32m\u001b[1minfo     \u001b[0m] \u001b[1mValidation successeful\u001b[0m\n"
     ]
    }
   ],
   "source": [
    "dv = DataValidation()\n",
    "\n",
    "is_valid = dv.run(df)"
   ]
  },
  {
   "cell_type": "code",
   "execution_count": 6,
   "metadata": {},
   "outputs": [],
   "source": [
    "dt = DataTransform(df)\n",
    "\n",
    "x_train, x_test, y_train, y_test = dt.train_test_split()"
   ]
  },
  {
   "cell_type": "code",
   "execution_count": 7,
   "metadata": {},
   "outputs": [
    {
     "name": "stdout",
     "output_type": "stream",
     "text": [
      "\u001b[2m2023-12-07 11:20:45\u001b[0m [\u001b[32m\u001b[1minfo     \u001b[0m] \u001b[1mPreprocessing started\u001b[0m\n"
     ]
    },
    {
     "data": {
      "text/html": [
       "<style>#sk-container-id-1 {color: black;}#sk-container-id-1 pre{padding: 0;}#sk-container-id-1 div.sk-toggleable {background-color: white;}#sk-container-id-1 label.sk-toggleable__label {cursor: pointer;display: block;width: 100%;margin-bottom: 0;padding: 0.3em;box-sizing: border-box;text-align: center;}#sk-container-id-1 label.sk-toggleable__label-arrow:before {content: \"▸\";float: left;margin-right: 0.25em;color: #696969;}#sk-container-id-1 label.sk-toggleable__label-arrow:hover:before {color: black;}#sk-container-id-1 div.sk-estimator:hover label.sk-toggleable__label-arrow:before {color: black;}#sk-container-id-1 div.sk-toggleable__content {max-height: 0;max-width: 0;overflow: hidden;text-align: left;background-color: #f0f8ff;}#sk-container-id-1 div.sk-toggleable__content pre {margin: 0.2em;color: black;border-radius: 0.25em;background-color: #f0f8ff;}#sk-container-id-1 input.sk-toggleable__control:checked~div.sk-toggleable__content {max-height: 200px;max-width: 100%;overflow: auto;}#sk-container-id-1 input.sk-toggleable__control:checked~label.sk-toggleable__label-arrow:before {content: \"▾\";}#sk-container-id-1 div.sk-estimator input.sk-toggleable__control:checked~label.sk-toggleable__label {background-color: #d4ebff;}#sk-container-id-1 div.sk-label input.sk-toggleable__control:checked~label.sk-toggleable__label {background-color: #d4ebff;}#sk-container-id-1 input.sk-hidden--visually {border: 0;clip: rect(1px 1px 1px 1px);clip: rect(1px, 1px, 1px, 1px);height: 1px;margin: -1px;overflow: hidden;padding: 0;position: absolute;width: 1px;}#sk-container-id-1 div.sk-estimator {font-family: monospace;background-color: #f0f8ff;border: 1px dotted black;border-radius: 0.25em;box-sizing: border-box;margin-bottom: 0.5em;}#sk-container-id-1 div.sk-estimator:hover {background-color: #d4ebff;}#sk-container-id-1 div.sk-parallel-item::after {content: \"\";width: 100%;border-bottom: 1px solid gray;flex-grow: 1;}#sk-container-id-1 div.sk-label:hover label.sk-toggleable__label {background-color: #d4ebff;}#sk-container-id-1 div.sk-serial::before {content: \"\";position: absolute;border-left: 1px solid gray;box-sizing: border-box;top: 0;bottom: 0;left: 50%;z-index: 0;}#sk-container-id-1 div.sk-serial {display: flex;flex-direction: column;align-items: center;background-color: white;padding-right: 0.2em;padding-left: 0.2em;position: relative;}#sk-container-id-1 div.sk-item {position: relative;z-index: 1;}#sk-container-id-1 div.sk-parallel {display: flex;align-items: stretch;justify-content: center;background-color: white;position: relative;}#sk-container-id-1 div.sk-item::before, #sk-container-id-1 div.sk-parallel-item::before {content: \"\";position: absolute;border-left: 1px solid gray;box-sizing: border-box;top: 0;bottom: 0;left: 50%;z-index: -1;}#sk-container-id-1 div.sk-parallel-item {display: flex;flex-direction: column;z-index: 1;position: relative;background-color: white;}#sk-container-id-1 div.sk-parallel-item:first-child::after {align-self: flex-end;width: 50%;}#sk-container-id-1 div.sk-parallel-item:last-child::after {align-self: flex-start;width: 50%;}#sk-container-id-1 div.sk-parallel-item:only-child::after {width: 0;}#sk-container-id-1 div.sk-dashed-wrapped {border: 1px dashed gray;margin: 0 0.4em 0.5em 0.4em;box-sizing: border-box;padding-bottom: 0.4em;background-color: white;}#sk-container-id-1 div.sk-label label {font-family: monospace;font-weight: bold;display: inline-block;line-height: 1.2em;}#sk-container-id-1 div.sk-label-container {text-align: center;}#sk-container-id-1 div.sk-container {/* jupyter's `normalize.less` sets `[hidden] { display: none; }` but bootstrap.min.css set `[hidden] { display: none !important; }` so we also need the `!important` here to be able to override the default hidden behavior on the sphinx rendered scikit-learn.org. See: https://github.com/scikit-learn/scikit-learn/issues/21755 */display: inline-block !important;position: relative;}#sk-container-id-1 div.sk-text-repr-fallback {display: none;}</style><div id=\"sk-container-id-1\" class=\"sk-top-container\"><div class=\"sk-text-repr-fallback\"><pre>Pipeline(steps=[(&#x27;imputer&#x27;,\n",
       "                 MeanMedianImputer(variables=[&#x27;RendaMensal&#x27;,\n",
       "                                              &#x27;NumeroDeDependentes&#x27;])),\n",
       "                (&#x27;discretizer&#x27;,\n",
       "                 EqualFrequencyDiscretiser(variables=[&#x27;TaxaDeUtilizacaoDeLinhasNaoGarantidas&#x27;,\n",
       "                                                      &#x27;TaxaDeEndividamento&#x27;,\n",
       "                                                      &#x27;RendaMensal&#x27;])),\n",
       "                (&#x27;scaler&#x27;,\n",
       "                 SklearnTransformerWrapper(transformer=StandardScaler()))])</pre><b>In a Jupyter environment, please rerun this cell to show the HTML representation or trust the notebook. <br />On GitHub, the HTML representation is unable to render, please try loading this page with nbviewer.org.</b></div><div class=\"sk-container\" hidden><div class=\"sk-item sk-dashed-wrapped\"><div class=\"sk-label-container\"><div class=\"sk-label sk-toggleable\"><input class=\"sk-toggleable__control sk-hidden--visually\" id=\"sk-estimator-id-1\" type=\"checkbox\" ><label for=\"sk-estimator-id-1\" class=\"sk-toggleable__label sk-toggleable__label-arrow\">Pipeline</label><div class=\"sk-toggleable__content\"><pre>Pipeline(steps=[(&#x27;imputer&#x27;,\n",
       "                 MeanMedianImputer(variables=[&#x27;RendaMensal&#x27;,\n",
       "                                              &#x27;NumeroDeDependentes&#x27;])),\n",
       "                (&#x27;discretizer&#x27;,\n",
       "                 EqualFrequencyDiscretiser(variables=[&#x27;TaxaDeUtilizacaoDeLinhasNaoGarantidas&#x27;,\n",
       "                                                      &#x27;TaxaDeEndividamento&#x27;,\n",
       "                                                      &#x27;RendaMensal&#x27;])),\n",
       "                (&#x27;scaler&#x27;,\n",
       "                 SklearnTransformerWrapper(transformer=StandardScaler()))])</pre></div></div></div><div class=\"sk-serial\"><div class=\"sk-item\"><div class=\"sk-estimator sk-toggleable\"><input class=\"sk-toggleable__control sk-hidden--visually\" id=\"sk-estimator-id-2\" type=\"checkbox\" ><label for=\"sk-estimator-id-2\" class=\"sk-toggleable__label sk-toggleable__label-arrow\">MeanMedianImputer</label><div class=\"sk-toggleable__content\"><pre>MeanMedianImputer(variables=[&#x27;RendaMensal&#x27;, &#x27;NumeroDeDependentes&#x27;])</pre></div></div></div><div class=\"sk-item\"><div class=\"sk-estimator sk-toggleable\"><input class=\"sk-toggleable__control sk-hidden--visually\" id=\"sk-estimator-id-3\" type=\"checkbox\" ><label for=\"sk-estimator-id-3\" class=\"sk-toggleable__label sk-toggleable__label-arrow\">EqualFrequencyDiscretiser</label><div class=\"sk-toggleable__content\"><pre>EqualFrequencyDiscretiser(variables=[&#x27;TaxaDeUtilizacaoDeLinhasNaoGarantidas&#x27;,\n",
       "                                     &#x27;TaxaDeEndividamento&#x27;, &#x27;RendaMensal&#x27;])</pre></div></div></div><div class=\"sk-item sk-dashed-wrapped\"><div class=\"sk-label-container\"><div class=\"sk-label sk-toggleable\"><input class=\"sk-toggleable__control sk-hidden--visually\" id=\"sk-estimator-id-4\" type=\"checkbox\" ><label for=\"sk-estimator-id-4\" class=\"sk-toggleable__label sk-toggleable__label-arrow\">scaler: SklearnTransformerWrapper</label><div class=\"sk-toggleable__content\"><pre>SklearnTransformerWrapper(transformer=StandardScaler())</pre></div></div></div><div class=\"sk-parallel\"><div class=\"sk-parallel-item\"><div class=\"sk-item\"><div class=\"sk-label-container\"><div class=\"sk-label sk-toggleable\"><input class=\"sk-toggleable__control sk-hidden--visually\" id=\"sk-estimator-id-5\" type=\"checkbox\" ><label for=\"sk-estimator-id-5\" class=\"sk-toggleable__label sk-toggleable__label-arrow\">transformer: StandardScaler</label><div class=\"sk-toggleable__content\"><pre>StandardScaler()</pre></div></div></div><div class=\"sk-serial\"><div class=\"sk-item\"><div class=\"sk-estimator sk-toggleable\"><input class=\"sk-toggleable__control sk-hidden--visually\" id=\"sk-estimator-id-6\" type=\"checkbox\" ><label for=\"sk-estimator-id-6\" class=\"sk-toggleable__label sk-toggleable__label-arrow\">StandardScaler</label><div class=\"sk-toggleable__content\"><pre>StandardScaler()</pre></div></div></div></div></div></div></div></div></div></div></div></div>"
      ],
      "text/plain": [
       "Pipeline(steps=[('imputer',\n",
       "                 MeanMedianImputer(variables=['RendaMensal',\n",
       "                                              'NumeroDeDependentes'])),\n",
       "                ('discretizer',\n",
       "                 EqualFrequencyDiscretiser(variables=['TaxaDeUtilizacaoDeLinhasNaoGarantidas',\n",
       "                                                      'TaxaDeEndividamento',\n",
       "                                                      'RendaMensal'])),\n",
       "                ('scaler',\n",
       "                 SklearnTransformerWrapper(transformer=StandardScaler()))])"
      ]
     },
     "execution_count": 7,
     "metadata": {},
     "output_type": "execute_result"
    }
   ],
   "source": [
    "pipe = Pipeline(\n",
    "    [\n",
    "        ('imputer', MeanMedianImputer(variables=load_config().get('imputer_variables'))),\n",
    "        ('discretizer', EqualFrequencyDiscretiser(variables=load_config().get('discretizer_variables'))),\n",
    "        ('scaler', SklearnTransformerWrapper(StandardScaler()))\n",
    "    ]\n",
    ")\n",
    "\n",
    "preprocessor = DataPreprocess(pipe)\n",
    "\n",
    "preprocessor.train(x_train)"
   ]
  },
  {
   "cell_type": "code",
   "execution_count": 8,
   "metadata": {},
   "outputs": [
    {
     "name": "stdout",
     "output_type": "stream",
     "text": [
      "\u001b[2m2023-12-07 11:20:45\u001b[0m [\u001b[32m\u001b[1minfo     \u001b[0m] \u001b[1mTransforming data\u001b[0m\n",
      "\u001b[2m2023-12-07 11:20:45\u001b[0m [\u001b[32m\u001b[1minfo     \u001b[0m] \u001b[1mPreprocessing finished\u001b[0m\n",
      "\u001b[2m2023-12-07 11:20:45\u001b[0m [\u001b[32m\u001b[1minfo     \u001b[0m] \u001b[1mTransforming data\u001b[0m\n",
      "\u001b[2m2023-12-07 11:20:45\u001b[0m [\u001b[32m\u001b[1minfo     \u001b[0m] \u001b[1mPreprocessing finished\u001b[0m\n"
     ]
    }
   ],
   "source": [
    "x_train_processed = preprocessor.transform(x_train)\n",
    "x_test_processed = preprocessor.transform(x_test)"
   ]
  },
  {
   "cell_type": "code",
   "execution_count": 9,
   "metadata": {},
   "outputs": [
    {
     "data": {
      "text/html": [
       "<div>\n",
       "<style scoped>\n",
       "    .dataframe tbody tr th:only-of-type {\n",
       "        vertical-align: middle;\n",
       "    }\n",
       "\n",
       "    .dataframe tbody tr th {\n",
       "        vertical-align: top;\n",
       "    }\n",
       "\n",
       "    .dataframe thead th {\n",
       "        text-align: right;\n",
       "    }\n",
       "</style>\n",
       "<table border=\"1\" class=\"dataframe\">\n",
       "  <thead>\n",
       "    <tr style=\"text-align: right;\">\n",
       "      <th></th>\n",
       "      <th>TaxaDeUtilizacaoDeLinhasNaoGarantidas</th>\n",
       "      <th>Idade</th>\n",
       "      <th>NumeroDeVezes30-59DiasAtrasoNaoPior</th>\n",
       "      <th>TaxaDeEndividamento</th>\n",
       "      <th>RendaMensal</th>\n",
       "      <th>NumeroDeLinhasDeCreditoEEmprestimosAbertos</th>\n",
       "      <th>NumeroDeVezes90DiasAtraso</th>\n",
       "      <th>NumeroDeEmprestimosOuLinhasImobiliarias</th>\n",
       "      <th>NumeroDeVezes60-89DiasAtrasoNaoPior</th>\n",
       "      <th>NumeroDeDependentes</th>\n",
       "    </tr>\n",
       "  </thead>\n",
       "  <tbody>\n",
       "    <tr>\n",
       "      <th>146433</th>\n",
       "      <td>0.174078</td>\n",
       "      <td>-1.507791</td>\n",
       "      <td>-0.100473</td>\n",
       "      <td>-0.870389</td>\n",
       "      <td>0.558077</td>\n",
       "      <td>-0.672878</td>\n",
       "      <td>-0.06394</td>\n",
       "      <td>0.869889</td>\n",
       "      <td>-0.057852</td>\n",
       "      <td>0.236830</td>\n",
       "    </tr>\n",
       "    <tr>\n",
       "      <th>15597</th>\n",
       "      <td>0.870388</td>\n",
       "      <td>-0.830642</td>\n",
       "      <td>-0.100473</td>\n",
       "      <td>-0.870389</td>\n",
       "      <td>-1.184396</td>\n",
       "      <td>-1.255080</td>\n",
       "      <td>-0.06394</td>\n",
       "      <td>-0.902282</td>\n",
       "      <td>-0.057852</td>\n",
       "      <td>-0.667136</td>\n",
       "    </tr>\n",
       "    <tr>\n",
       "      <th>111605</th>\n",
       "      <td>1.566699</td>\n",
       "      <td>-1.236931</td>\n",
       "      <td>-0.100473</td>\n",
       "      <td>-1.218546</td>\n",
       "      <td>-0.487407</td>\n",
       "      <td>-1.449147</td>\n",
       "      <td>-0.06394</td>\n",
       "      <td>-0.902282</td>\n",
       "      <td>-0.057852</td>\n",
       "      <td>-0.667136</td>\n",
       "    </tr>\n",
       "    <tr>\n",
       "      <th>85418</th>\n",
       "      <td>-1.218544</td>\n",
       "      <td>2.081102</td>\n",
       "      <td>-0.100473</td>\n",
       "      <td>1.218553</td>\n",
       "      <td>-0.138912</td>\n",
       "      <td>-0.866945</td>\n",
       "      <td>-0.06394</td>\n",
       "      <td>-0.902282</td>\n",
       "      <td>-0.057852</td>\n",
       "      <td>-0.667136</td>\n",
       "    </tr>\n",
       "    <tr>\n",
       "      <th>9652</th>\n",
       "      <td>0.870388</td>\n",
       "      <td>0.591373</td>\n",
       "      <td>-0.100473</td>\n",
       "      <td>-0.870389</td>\n",
       "      <td>-0.487407</td>\n",
       "      <td>-1.061013</td>\n",
       "      <td>-0.06394</td>\n",
       "      <td>-0.902282</td>\n",
       "      <td>-0.057852</td>\n",
       "      <td>1.140796</td>\n",
       "    </tr>\n",
       "  </tbody>\n",
       "</table>\n",
       "</div>"
      ],
      "text/plain": [
       "        TaxaDeUtilizacaoDeLinhasNaoGarantidas     Idade  \\\n",
       "146433                               0.174078 -1.507791   \n",
       "15597                                0.870388 -0.830642   \n",
       "111605                               1.566699 -1.236931   \n",
       "85418                               -1.218544  2.081102   \n",
       "9652                                 0.870388  0.591373   \n",
       "\n",
       "        NumeroDeVezes30-59DiasAtrasoNaoPior  TaxaDeEndividamento  RendaMensal  \\\n",
       "146433                            -0.100473            -0.870389     0.558077   \n",
       "15597                             -0.100473            -0.870389    -1.184396   \n",
       "111605                            -0.100473            -1.218546    -0.487407   \n",
       "85418                             -0.100473             1.218553    -0.138912   \n",
       "9652                              -0.100473            -0.870389    -0.487407   \n",
       "\n",
       "        NumeroDeLinhasDeCreditoEEmprestimosAbertos  NumeroDeVezes90DiasAtraso  \\\n",
       "146433                                   -0.672878                   -0.06394   \n",
       "15597                                    -1.255080                   -0.06394   \n",
       "111605                                   -1.449147                   -0.06394   \n",
       "85418                                    -0.866945                   -0.06394   \n",
       "9652                                     -1.061013                   -0.06394   \n",
       "\n",
       "        NumeroDeEmprestimosOuLinhasImobiliarias  \\\n",
       "146433                                 0.869889   \n",
       "15597                                 -0.902282   \n",
       "111605                                -0.902282   \n",
       "85418                                 -0.902282   \n",
       "9652                                  -0.902282   \n",
       "\n",
       "        NumeroDeVezes60-89DiasAtrasoNaoPior  NumeroDeDependentes  \n",
       "146433                            -0.057852             0.236830  \n",
       "15597                             -0.057852            -0.667136  \n",
       "111605                            -0.057852            -0.667136  \n",
       "85418                             -0.057852            -0.667136  \n",
       "9652                              -0.057852             1.140796  "
      ]
     },
     "execution_count": 9,
     "metadata": {},
     "output_type": "execute_result"
    }
   ],
   "source": [
    "x_train_processed.head()"
   ]
  },
  {
   "cell_type": "code",
   "execution_count": 12,
   "metadata": {},
   "outputs": [
    {
     "name": "stdout",
     "output_type": "stream",
     "text": [
      "\u001b[2m2023-12-07 11:21:25\u001b[0m [\u001b[32m\u001b[1minfo     \u001b[0m] \u001b[1mTraining model LogisticRegression\u001b[0m\n",
      "\u001b[2m2023-12-07 11:21:26\u001b[0m [\u001b[32m\u001b[1minfo     \u001b[0m] \u001b[1mModel trained successfully.\u001b[0m\n",
      "\u001b[2m2023-12-07 11:21:26\u001b[0m [\u001b[32m\u001b[1minfo     \u001b[0m] \u001b[1mModel saved successfully in /home/bem/repos/ml_flow/level_2/models/model.joblib\u001b[0m\n"
     ]
    }
   ],
   "source": [
    "mt = ModelTraining(x_data=x_train_processed, y_data=y_train)\n",
    "model = mt.train(model=LogisticRegression(random_state=load_config().get('random_state')))"
   ]
  },
  {
   "cell_type": "code",
   "execution_count": 15,
   "metadata": {},
   "outputs": [
    {
     "name": "stdout",
     "output_type": "stream",
     "text": [
      "\u001b[2m2023-12-07 11:22:30\u001b[0m [\u001b[32m\u001b[1minfo     \u001b[0m] \u001b[1mCross validation evaluation for model LogisticRegression started.\u001b[0m\n"
     ]
    }
   ],
   "source": [
    "ce = ClassifierEvaluation(model, x_test_processed, y_test)\n",
    "roc_auc_scores = ce.cross_val_eval()"
   ]
  },
  {
   "cell_type": "code",
   "execution_count": 16,
   "metadata": {},
   "outputs": [
    {
     "data": {
      "text/plain": [
       "0.7991691576684335"
      ]
     },
     "execution_count": 16,
     "metadata": {},
     "output_type": "execute_result"
    }
   ],
   "source": [
    "roc_auc_scores.mean()"
   ]
  }
 ],
 "metadata": {
  "kernelspec": {
   "display_name": "ml_flow",
   "language": "python",
   "name": "python3"
  },
  "language_info": {
   "codemirror_mode": {
    "name": "ipython",
    "version": 3
   },
   "file_extension": ".py",
   "mimetype": "text/x-python",
   "name": "python",
   "nbconvert_exporter": "python",
   "pygments_lexer": "ipython3",
   "version": "3.10.13"
  }
 },
 "nbformat": 4,
 "nbformat_minor": 2
}
