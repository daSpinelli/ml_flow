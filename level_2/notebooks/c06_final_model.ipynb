{
 "cells": [
  {
   "cell_type": "markdown",
   "metadata": {},
   "source": [
    "# Imports"
   ]
  },
  {
   "cell_type": "code",
   "execution_count": 1,
   "metadata": {},
   "outputs": [],
   "source": [
    "import os, sys, warnings\n",
    "\n",
    "warnings.filterwarnings('ignore')\n",
    "\n",
    "ROOT_DIR = os.path.abspath(os.path.join(os.path.dirname('__file__'), '..', '..'))\n",
    "if ROOT_DIR not in sys.path:\n",
    "    sys.path.append(ROOT_DIR)\n",
    "    \n",
    "import mlflow\n",
    "\n",
    "from mlflow.tracking import MlflowClient\n",
    "\n",
    "from level_2.src.utils import utils\n",
    "from level_2.src.data.data_load import DataLoad\n",
    "from level_2.src.data.data_validation import DataValidation\n",
    "from level_2.src.data.data_transform import DataTransform\n",
    "from level_2.src.data.data_preprocess import DataPreprocess\n",
    "from level_2.src.train.model_training import ModelTraining"
   ]
  },
  {
   "cell_type": "markdown",
   "metadata": {},
   "source": [
    "# Data Load"
   ]
  },
  {
   "cell_type": "code",
   "execution_count": 2,
   "metadata": {},
   "outputs": [
    {
     "name": "stdout",
     "output_type": "stream",
     "text": [
      "\u001b[2m2023-12-11 10:48:41\u001b[0m [\u001b[32m\u001b[1minfo     \u001b[0m] \u001b[1mReading data from CSV file...\u001b[0m\n",
      "\u001b[2m2023-12-11 10:48:41\u001b[0m [\u001b[32m\u001b[1minfo     \u001b[0m] \u001b[1mData read successfully.\u001b[0m\n"
     ]
    }
   ],
   "source": [
    "train_data_file = os.path.join(ROOT_DIR, 'level_2', 'data', 'raw', 'train.csv')\n",
    "\n",
    "data_load = DataLoad()\n",
    "df = data_load.run(train_data_file, index_col=0)"
   ]
  },
  {
   "cell_type": "markdown",
   "metadata": {},
   "source": [
    "# Data Validation"
   ]
  },
  {
   "cell_type": "code",
   "execution_count": 3,
   "metadata": {},
   "outputs": [
    {
     "name": "stdout",
     "output_type": "stream",
     "text": [
      "\u001b[2m2023-12-11 10:48:41\u001b[0m [\u001b[32m\u001b[1minfo     \u001b[0m] \u001b[1mValidation started\u001b[0m\n",
      "\u001b[2m2023-12-11 10:48:41\u001b[0m [\u001b[32m\u001b[1minfo     \u001b[0m] \u001b[1mValidation passed\u001b[0m\n",
      "\u001b[2m2023-12-11 10:48:41\u001b[0m [\u001b[32m\u001b[1minfo     \u001b[0m] \u001b[1mValidation successeful\u001b[0m\n"
     ]
    }
   ],
   "source": [
    "data_validation = DataValidation()\n",
    "\n",
    "is_valid = data_validation.run(df)"
   ]
  },
  {
   "cell_type": "markdown",
   "metadata": {},
   "source": [
    "# Data Transformation"
   ]
  },
  {
   "cell_type": "code",
   "execution_count": 4,
   "metadata": {},
   "outputs": [],
   "source": [
    "data_transform = DataTransform(df)\n",
    "\n",
    "x_train, x_test, y_train, y_test = data_transform.train_test_split()"
   ]
  },
  {
   "cell_type": "markdown",
   "metadata": {},
   "source": [
    "# Final Model Training"
   ]
  },
  {
   "cell_type": "code",
   "execution_count": 5,
   "metadata": {},
   "outputs": [
    {
     "name": "stdout",
     "output_type": "stream",
     "text": [
      "\u001b[2m2023-12-11 10:48:41\u001b[0m [\u001b[32m\u001b[1minfo     \u001b[0m] \u001b[1mGetting best model\u001b[0m\n",
      "\u001b[2m2023-12-11 10:48:41\u001b[0m [\u001b[32m\u001b[1minfo     \u001b[0m] \u001b[1mStarting model training: model.joblib\u001b[0m\n",
      "\u001b[2m2023-12-11 10:48:46\u001b[0m [\u001b[32m\u001b[1minfo     \u001b[0m] \u001b[1mEvaluation of predictions started.\u001b[0m\n",
      "\u001b[2m2023-12-11 10:48:46\u001b[0m [\u001b[32m\u001b[1minfo     \u001b[0m] \u001b[1mROC AUC score: 0.7922597531213156\u001b[0m\n"
     ]
    },
    {
     "name": "stderr",
     "output_type": "stream",
     "text": [
      "Successfully registered model 'model.joblib'.\n",
      "2023/12/11 10:48:50 INFO mlflow.store.model_registry.abstract_store: Waiting up to 300 seconds for model version to finish creation. Model name: model.joblib, version 1\n",
      "Created version '1' of model 'model.joblib'.\n"
     ]
    }
   ],
   "source": [
    "final_model = ModelTraining(x_train, y_train)\n",
    "final_model.run()"
   ]
  }
 ],
 "metadata": {
  "kernelspec": {
   "display_name": "ml_flow",
   "language": "python",
   "name": "python3"
  },
  "language_info": {
   "codemirror_mode": {
    "name": "ipython",
    "version": 3
   },
   "file_extension": ".py",
   "mimetype": "text/x-python",
   "name": "python",
   "nbconvert_exporter": "python",
   "pygments_lexer": "ipython3",
   "version": "3.10.13"
  }
 },
 "nbformat": 4,
 "nbformat_minor": 2
}
